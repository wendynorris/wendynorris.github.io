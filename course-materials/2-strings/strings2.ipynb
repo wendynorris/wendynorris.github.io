{
 "cells": [
  {
   "cell_type": "markdown",
   "metadata": {},
   "source": [
    "#DHcode.org | Strings\n",
    "### An introduction to computational digital humanities research by Wendy Norris"
   ]
  },
  {
   "cell_type": "markdown",
   "metadata": {},
   "source": [
    "### Import a Python library\n",
    "\n",
    "Again, and throughout this series, we'll use the Pandas library to import pre-built snippets of Python code for our data analysis."
   ]
  },
  {
   "cell_type": "code",
   "execution_count": 1,
   "metadata": {},
   "outputs": [],
   "source": [
    "import pandas as pd"
   ]
  },
  {
   "cell_type": "markdown",
   "metadata": {},
   "source": [
    "### Read a sample of 1,000 tweets from the month of September\n",
    "\n",
    "Let's read-in the refugee sample data in csv format into our Jupyter Notebook file. Here, we direct the Pandas library to read the csv file and convert it into a 2-dimensional (rows and columns) spreadsheet-like format called a dataframe, abbreviated here as **df**"
   ]
  },
  {
   "cell_type": "code",
   "execution_count": 2,
   "metadata": {
    "editable": false
   },
   "outputs": [],
   "source": [
    "df = pd.read_csv(\"refugee-data.csv\")"
   ]
  },
  {
   "cell_type": "markdown",
   "metadata": {},
   "source": [
    "### Convert the Twitter csv file into a dataframe called df. Look at the first 3 rows to confirm it imported properly.\n",
    "\n",
    "In Pandas, the **.head( )** command directs Python to return the column name headers and the first five rows of the dataframe so we can eyeball it to make sure the data imported correctly. If there is a lot of data, the dataframe will also include a horizontal scroll bar, like we have below. "
   ]
  },
  {
   "cell_type": "code",
   "execution_count": 3,
   "metadata": {},
   "outputs": [
    {
     "data": {
      "text/html": [
       "<div>\n",
       "<style scoped>\n",
       "    .dataframe tbody tr th:only-of-type {\n",
       "        vertical-align: middle;\n",
       "    }\n",
       "\n",
       "    .dataframe tbody tr th {\n",
       "        vertical-align: top;\n",
       "    }\n",
       "\n",
       "    .dataframe thead th {\n",
       "        text-align: right;\n",
       "    }\n",
       "</style>\n",
       "<table border=\"1\" class=\"dataframe\">\n",
       "  <thead>\n",
       "    <tr style=\"text-align: right;\">\n",
       "      <th></th>\n",
       "      <th>coordinates</th>\n",
       "      <th>created_at</th>\n",
       "      <th>followers</th>\n",
       "      <th>friends</th>\n",
       "      <th>geolocation</th>\n",
       "      <th>id</th>\n",
       "      <th>original_text</th>\n",
       "      <th>text</th>\n",
       "      <th>tweet_type</th>\n",
       "      <th>user_id</th>\n",
       "      <th>user_location</th>\n",
       "      <th>user_name</th>\n",
       "      <th>user_screen_name</th>\n",
       "      <th>verified</th>\n",
       "    </tr>\n",
       "  </thead>\n",
       "  <tbody>\n",
       "    <tr>\n",
       "      <th>0</th>\n",
       "      <td>NaN</td>\n",
       "      <td>2015-09-03 00:29:28+00:00</td>\n",
       "      <td>1812</td>\n",
       "      <td>1648</td>\n",
       "      <td>NaN</td>\n",
       "      <td>6.390000e+17</td>\n",
       "      <td>I spent the day at a Greek refugee camp: http:...</td>\n",
       "      <td>RT @VICEUK: I spent the day at a Greek refugee...</td>\n",
       "      <td>share</td>\n",
       "      <td>1000008756</td>\n",
       "      <td>NaN</td>\n",
       "      <td>nica</td>\n",
       "      <td>stylespedreiro</td>\n",
       "      <td>False</td>\n",
       "    </tr>\n",
       "    <tr>\n",
       "      <th>1</th>\n",
       "      <td>NaN</td>\n",
       "      <td>2015-09-13 20:30:14+00:00</td>\n",
       "      <td>1233</td>\n",
       "      <td>564</td>\n",
       "      <td>NaN</td>\n",
       "      <td>6.430000e+17</td>\n",
       "      <td>the subtle lumping of the liberal-minded refug...</td>\n",
       "      <td>RT @adamjohnsonNYC: the subtle lumping of the ...</td>\n",
       "      <td>share</td>\n",
       "      <td>1000010898</td>\n",
       "      <td>NaN</td>\n",
       "      <td>Roy Scranton</td>\n",
       "      <td>RoyScranton</td>\n",
       "      <td>False</td>\n",
       "    </tr>\n",
       "    <tr>\n",
       "      <th>2</th>\n",
       "      <td>NaN</td>\n",
       "      <td>2015-09-12 16:39:39+00:00</td>\n",
       "      <td>7860</td>\n",
       "      <td>1243</td>\n",
       "      <td>NaN</td>\n",
       "      <td>6.430000e+17</td>\n",
       "      <td>NaN</td>\n",
       "      <td>Kurdish Yezidi girl declines asylum offer from...</td>\n",
       "      <td>post</td>\n",
       "      <td>100001518</td>\n",
       "      <td>Jerusalem / Diyarbakir</td>\n",
       "      <td>Kurdistan &amp; Israel</td>\n",
       "      <td>KurdistanIsrael</td>\n",
       "      <td>False</td>\n",
       "    </tr>\n",
       "    <tr>\n",
       "      <th>3</th>\n",
       "      <td>NaN</td>\n",
       "      <td>2015-09-03 06:15:17+00:00</td>\n",
       "      <td>327</td>\n",
       "      <td>161</td>\n",
       "      <td>NaN</td>\n",
       "      <td>6.390000e+17</td>\n",
       "      <td>\"Humanity washed ashore\"- #KiyiyaVuranInsanlik...</td>\n",
       "      <td>RT @ajplus: \"Humanity washed ashore\"- #KiyiyaV...</td>\n",
       "      <td>share</td>\n",
       "      <td>1000394742</td>\n",
       "      <td>NaN</td>\n",
       "      <td>Sadiyya Badat</td>\n",
       "      <td>SadiyyaBadat</td>\n",
       "      <td>False</td>\n",
       "    </tr>\n",
       "    <tr>\n",
       "      <th>4</th>\n",
       "      <td>NaN</td>\n",
       "      <td>2015-09-05 22:10:18+00:00</td>\n",
       "      <td>451</td>\n",
       "      <td>1082</td>\n",
       "      <td>NaN</td>\n",
       "      <td>6.400000e+17</td>\n",
       "      <td>Aylan Kurdi must bring West to its senses. Kur...</td>\n",
       "      <td>RT @BayanRahman: Aylan Kurdi must bring West t...</td>\n",
       "      <td>share</td>\n",
       "      <td>100027392</td>\n",
       "      <td>Manchester</td>\n",
       "      <td>Karimah Farag</td>\n",
       "      <td>KarimahSamiah</td>\n",
       "      <td>False</td>\n",
       "    </tr>\n",
       "  </tbody>\n",
       "</table>\n",
       "</div>"
      ],
      "text/plain": [
       "  coordinates                 created_at  followers  friends geolocation  \\\n",
       "0         NaN  2015-09-03 00:29:28+00:00       1812     1648         NaN   \n",
       "1         NaN  2015-09-13 20:30:14+00:00       1233      564         NaN   \n",
       "2         NaN  2015-09-12 16:39:39+00:00       7860     1243         NaN   \n",
       "3         NaN  2015-09-03 06:15:17+00:00        327      161         NaN   \n",
       "4         NaN  2015-09-05 22:10:18+00:00        451     1082         NaN   \n",
       "\n",
       "             id                                      original_text  \\\n",
       "0  6.390000e+17  I spent the day at a Greek refugee camp: http:...   \n",
       "1  6.430000e+17  the subtle lumping of the liberal-minded refug...   \n",
       "2  6.430000e+17                                                NaN   \n",
       "3  6.390000e+17  \"Humanity washed ashore\"- #KiyiyaVuranInsanlik...   \n",
       "4  6.400000e+17  Aylan Kurdi must bring West to its senses. Kur...   \n",
       "\n",
       "                                                text tweet_type     user_id  \\\n",
       "0  RT @VICEUK: I spent the day at a Greek refugee...      share  1000008756   \n",
       "1  RT @adamjohnsonNYC: the subtle lumping of the ...      share  1000010898   \n",
       "2  Kurdish Yezidi girl declines asylum offer from...       post   100001518   \n",
       "3  RT @ajplus: \"Humanity washed ashore\"- #KiyiyaV...      share  1000394742   \n",
       "4  RT @BayanRahman: Aylan Kurdi must bring West t...      share   100027392   \n",
       "\n",
       "            user_location           user_name user_screen_name  verified  \n",
       "0                     NaN                nica   stylespedreiro     False  \n",
       "1                     NaN        Roy Scranton      RoyScranton     False  \n",
       "2  Jerusalem / Diyarbakir  Kurdistan & Israel  KurdistanIsrael     False  \n",
       "3                     NaN       Sadiyya Badat     SadiyyaBadat     False  \n",
       "4              Manchester       Karimah Farag    KarimahSamiah     False  "
      ]
     },
     "execution_count": 3,
     "metadata": {},
     "output_type": "execute_result"
    }
   ],
   "source": [
    "df.head()"
   ]
  },
  {
   "cell_type": "markdown",
   "metadata": {},
   "source": [
    "### Let's narrow the data to a subset consisting of only the columns we're interested in exploring further \n",
    "\n",
    "As we did in the datatypes Jupyter Notebook, we're going to create a new subset of the dataframe. We'll call it **subset_df** in order to be as descriptive as possible so we know it's not the entire dataframe.  Then, we'll write out the strings for each of the column headers in the dataframe that we're interested in. Notice, if you compare this subset and the full dataframe above, that the column headers do not need to be in the same order. \n",
    "\n",
    "Again, we'll run the **.head( )** command on the new **subset_df** dataframe to confirm the first five rows are displaying the way we expect. "
   ]
  },
  {
   "cell_type": "code",
   "execution_count": 4,
   "metadata": {},
   "outputs": [
    {
     "data": {
      "text/html": [
       "<div>\n",
       "<style scoped>\n",
       "    .dataframe tbody tr th:only-of-type {\n",
       "        vertical-align: middle;\n",
       "    }\n",
       "\n",
       "    .dataframe tbody tr th {\n",
       "        vertical-align: top;\n",
       "    }\n",
       "\n",
       "    .dataframe thead th {\n",
       "        text-align: right;\n",
       "    }\n",
       "</style>\n",
       "<table border=\"1\" class=\"dataframe\">\n",
       "  <thead>\n",
       "    <tr style=\"text-align: right;\">\n",
       "      <th></th>\n",
       "      <th>user_screen_name</th>\n",
       "      <th>tweet_type</th>\n",
       "      <th>text</th>\n",
       "      <th>friends</th>\n",
       "      <th>followers</th>\n",
       "    </tr>\n",
       "  </thead>\n",
       "  <tbody>\n",
       "    <tr>\n",
       "      <th>0</th>\n",
       "      <td>stylespedreiro</td>\n",
       "      <td>share</td>\n",
       "      <td>RT @VICEUK: I spent the day at a Greek refugee...</td>\n",
       "      <td>1648</td>\n",
       "      <td>1812</td>\n",
       "    </tr>\n",
       "    <tr>\n",
       "      <th>1</th>\n",
       "      <td>RoyScranton</td>\n",
       "      <td>share</td>\n",
       "      <td>RT @adamjohnsonNYC: the subtle lumping of the ...</td>\n",
       "      <td>564</td>\n",
       "      <td>1233</td>\n",
       "    </tr>\n",
       "    <tr>\n",
       "      <th>2</th>\n",
       "      <td>KurdistanIsrael</td>\n",
       "      <td>post</td>\n",
       "      <td>Kurdish Yezidi girl declines asylum offer from...</td>\n",
       "      <td>1243</td>\n",
       "      <td>7860</td>\n",
       "    </tr>\n",
       "  </tbody>\n",
       "</table>\n",
       "</div>"
      ],
      "text/plain": [
       "  user_screen_name tweet_type  \\\n",
       "0   stylespedreiro      share   \n",
       "1      RoyScranton      share   \n",
       "2  KurdistanIsrael       post   \n",
       "\n",
       "                                                text  friends  followers  \n",
       "0  RT @VICEUK: I spent the day at a Greek refugee...     1648       1812  \n",
       "1  RT @adamjohnsonNYC: the subtle lumping of the ...      564       1233  \n",
       "2  Kurdish Yezidi girl declines asylum offer from...     1243       7860  "
      ]
     },
     "execution_count": 4,
     "metadata": {},
     "output_type": "execute_result"
    }
   ],
   "source": [
    "subset_df = df[[\"user_screen_name\", \"tweet_type\", \"text\", \"friends\", \"followers\"]]\n",
    "subset_df.head(3)"
   ]
  },
  {
   "cell_type": "markdown",
   "metadata": {},
   "source": [
    "### Write a string to describe the original (posts) vs retweets (shares) count\n",
    "\n",
    "As we did in the previous video, let's count the total number of **tweet_types** or shared and original posts in the Twitter dataset. We'll use the variable **kind** to label this short program.\n",
    "\n",
    "But in this case, we're also going to add a string to the **print** statement to be a bit more descriptive about the calculated data that we're returning. Having more elaborate **print** statements are very helpful for understanding the underlying decisions you've made in the program to refresh your memory when you come back to a program as well as to share those analytical choices with others. "
   ]
  },
  {
   "cell_type": "code",
   "execution_count": 5,
   "metadata": {},
   "outputs": [
    {
     "name": "stdout",
     "output_type": "stream",
     "text": [
      "The total number of tweet types in the data is: \n",
      "share    640\n",
      "post     357\n",
      "Name: tweet_type, dtype: int64\n"
     ]
    }
   ],
   "source": [
    "kind = subset_df[\"tweet_type\"].value_counts()\n",
    "print(\"The total number of tweet types in the data is: \")\n",
    "print(kind)"
   ]
  },
  {
   "cell_type": "markdown",
   "metadata": {},
   "source": [
    "### Concatenate two simple strings\n",
    "\n",
    "In this example, we concatenate or join two strings together. One is the text of a tweet and the other is a Twitter generated link. Notice when I concatenate the two strings **twt** and **link** as **full_tweet** I need to cheat in a space between them with an empty double quotemark. Otherwise, **full_tweet** would print squashed together, as **Childrenhttp://t.co/toxqLa8rZS**\n",
    "\n",
    "Remember that an apostrophes inside a string can trip up Python and cause an invalid syntax error in the program. That's why I always recommend using double quotes to set off a string. Check out the two examples below to see what happens. "
   ]
  },
  {
   "cell_type": "code",
   "execution_count": 6,
   "metadata": {},
   "outputs": [
    {
     "ename": "SyntaxError",
     "evalue": "invalid syntax (<ipython-input-6-34f61a8895ea>, line 1)",
     "output_type": "error",
     "traceback": [
      "\u001b[0;36m  File \u001b[0;32m\"<ipython-input-6-34f61a8895ea>\"\u001b[0;36m, line \u001b[0;32m1\u001b[0m\n\u001b[0;31m    twt = 'The World's Most Humble President Just Opened His House to 100 Syrian Refugee Children'\u001b[0m\n\u001b[0m                     ^\u001b[0m\n\u001b[0;31mSyntaxError\u001b[0m\u001b[0;31m:\u001b[0m invalid syntax\n"
     ]
    }
   ],
   "source": [
    "twt = 'The World's Most Humble President Just Opened His House to 100 Syrian Refugee Children' \n",
    "link = \"http://t.co/toxqLa8rZS\" \n",
    "\n",
    "full_tweet = twt + \" \" + link\n",
    "print(full_tweet)"
   ]
  },
  {
   "cell_type": "code",
   "execution_count": 7,
   "metadata": {},
   "outputs": [
    {
     "name": "stdout",
     "output_type": "stream",
     "text": [
      "The World's Most Humble President Just Opened His House to 100 Syrian Refugee Children http://t.co/toxqLa8rZS\n"
     ]
    }
   ],
   "source": [
    "twt = \"The World's Most Humble President Just Opened His House to 100 Syrian Refugee Children\"\n",
    "link = \"http://t.co/toxqLa8rZS\" \n",
    "\n",
    "full_tweet = twt + \" \" + link\n",
    "print(full_tweet)"
   ]
  },
  {
   "cell_type": "markdown",
   "metadata": {},
   "source": [
    "### Concatenate a new mini-dataframe from two columns: user_screen_name and text\n",
    "\n",
    "We can also concatenate two (or more) strings that represent column labels."
   ]
  },
  {
   "cell_type": "code",
   "execution_count": 8,
   "metadata": {},
   "outputs": [
    {
     "data": {
      "text/html": [
       "<div>\n",
       "<style scoped>\n",
       "    .dataframe tbody tr th:only-of-type {\n",
       "        vertical-align: middle;\n",
       "    }\n",
       "\n",
       "    .dataframe tbody tr th {\n",
       "        vertical-align: top;\n",
       "    }\n",
       "\n",
       "    .dataframe thead th {\n",
       "        text-align: right;\n",
       "    }\n",
       "</style>\n",
       "<table border=\"1\" class=\"dataframe\">\n",
       "  <thead>\n",
       "    <tr style=\"text-align: right;\">\n",
       "      <th></th>\n",
       "      <th>user_screen_name</th>\n",
       "      <th>text</th>\n",
       "    </tr>\n",
       "  </thead>\n",
       "  <tbody>\n",
       "    <tr>\n",
       "      <th>0</th>\n",
       "      <td>stylespedreiro</td>\n",
       "      <td>RT @VICEUK: I spent the day at a Greek refugee...</td>\n",
       "    </tr>\n",
       "    <tr>\n",
       "      <th>1</th>\n",
       "      <td>RoyScranton</td>\n",
       "      <td>RT @adamjohnsonNYC: the subtle lumping of the ...</td>\n",
       "    </tr>\n",
       "    <tr>\n",
       "      <th>2</th>\n",
       "      <td>KurdistanIsrael</td>\n",
       "      <td>Kurdish Yezidi girl declines asylum offer from...</td>\n",
       "    </tr>\n",
       "    <tr>\n",
       "      <th>3</th>\n",
       "      <td>SadiyyaBadat</td>\n",
       "      <td>RT @ajplus: \"Humanity washed ashore\"- #KiyiyaV...</td>\n",
       "    </tr>\n",
       "    <tr>\n",
       "      <th>4</th>\n",
       "      <td>KarimahSamiah</td>\n",
       "      <td>RT @BayanRahman: Aylan Kurdi must bring West t...</td>\n",
       "    </tr>\n",
       "  </tbody>\n",
       "</table>\n",
       "</div>"
      ],
      "text/plain": [
       "  user_screen_name                                               text\n",
       "0   stylespedreiro  RT @VICEUK: I spent the day at a Greek refugee...\n",
       "1      RoyScranton  RT @adamjohnsonNYC: the subtle lumping of the ...\n",
       "2  KurdistanIsrael  Kurdish Yezidi girl declines asylum offer from...\n",
       "3     SadiyyaBadat  RT @ajplus: \"Humanity washed ashore\"- #KiyiyaV...\n",
       "4    KarimahSamiah  RT @BayanRahman: Aylan Kurdi must bring West t..."
      ]
     },
     "execution_count": 8,
     "metadata": {},
     "output_type": "execute_result"
    }
   ],
   "source": [
    "df_tweets = subset_df[[\"user_screen_name\"] + [\"text\"]]\n",
    "df_tweets.head()"
   ]
  },
  {
   "cell_type": "markdown",
   "metadata": {},
   "source": [
    "### Count all the instances of the string \"refugee\" in the tweets.\n",
    "\n",
    "Incorporating strings inside a **print** statement can be a quite helpful way to describe the calculation that results from a program. In this example, we wrap two **print** statements around the number that is outputted from the count of the word \"refugee\" in all of the tweets. \n",
    "\n",
    "Notice here that we need to cast that integer from the count as a string by using **str(ref_total)** because **print** statements can only handle one datatype at a time. "
   ]
  },
  {
   "cell_type": "code",
   "execution_count": 9,
   "metadata": {},
   "outputs": [
    {
     "name": "stdout",
     "output_type": "stream",
     "text": [
      "The word 'refugee' appears: 542 times in this 1,000 tweet sample.\n"
     ]
    }
   ],
   "source": [
    "ref_total = df_tweets.text.str.count(\"refugee\").sum()\n",
    "\n",
    "print(\"The word 'refugee' appears: \" + str(ref_total) + \" times in this 1,000 tweet sample.\")"
   ]
  },
  {
   "attachments": {
    "_CC-BY-NC-SA.png": {
     "image/png": "[encoded data removed]"
    }
   },
   "cell_type": "markdown",
   "metadata": {},
   "source": [
    "![_CC-BY-NC-SA.png](attachment:_CC-BY-NC-SA.png)"
   ]
  }
 ],
 "metadata": {
  "celltoolbar": "Edit Metadata",
  "kernelspec": {
   "display_name": "Python 3",
   "language": "python",
   "name": "python3"
  },
  "language_info": {
   "codemirror_mode": {
    "name": "ipython",
    "version": 3
   },
   "file_extension": ".py",
   "mimetype": "text/x-python",
   "name": "python",
   "nbconvert_exporter": "python",
   "pygments_lexer": "ipython3",
   "version": "3.6.5"
  }
 },
 "nbformat": 4,
 "nbformat_minor": 1
}
